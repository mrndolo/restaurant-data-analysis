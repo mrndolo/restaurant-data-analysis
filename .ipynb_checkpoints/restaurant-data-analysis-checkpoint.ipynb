{
 "cells": [
  {
   "cell_type": "markdown",
   "id": "8945a9e9-a651-41c8-9d67-9f415351f240",
   "metadata": {},
   "source": [
    "# US Restaurant data analysis"
   ]
  },
  {
   "cell_type": "markdown",
   "id": "b10ea449-5cf9-4a6c-806b-d1f93e251bd0",
   "metadata": {},
   "source": [
    "## Import/Load the Data"
   ]
  },
  {
   "cell_type": "code",
   "execution_count": 1,
   "id": "f439c094-fcfa-41b6-95f8-b4784af12d59",
   "metadata": {},
   "outputs": [],
   "source": [
    "import pandas as pd\n",
    "\n",
    "df = pd.read_csv('restaurant_data_analysis.csv')"
   ]
  },
  {
   "cell_type": "markdown",
   "id": "74abe5fe-b461-4112-baa9-25382c01d289",
   "metadata": {},
   "source": [
    "## Checking the structure, contents, and statistics of the data"
   ]
  },
  {
   "cell_type": "code",
   "execution_count": 2,
   "id": "ec2b7919-ab7d-4b35-ae40-683a7c533228",
   "metadata": {},
   "outputs": [
    {
     "data": {
      "text/plain": [
       "(10000, 8)"
      ]
     },
     "execution_count": 2,
     "metadata": {},
     "output_type": "execute_result"
    }
   ],
   "source": [
    "# the number of rows and columns in the DataFrame\n",
    "df.shape"
   ]
  },
  {
   "cell_type": "code",
   "execution_count": 3,
   "id": "c2a8beda-e65d-49ea-b776-b9b9efcf4d2e",
   "metadata": {},
   "outputs": [
    {
     "data": {
      "text/plain": [
       "Index(['name', 'categories', 'city', 'state', 'address', 'postalCode',\n",
       "       'latitude', 'longitude'],\n",
       "      dtype='object')"
      ]
     },
     "execution_count": 3,
     "metadata": {},
     "output_type": "execute_result"
    }
   ],
   "source": [
    "# names of all columns in the DataFrame\n",
    "df.columns"
   ]
  },
  {
   "cell_type": "code",
   "execution_count": 4,
   "id": "32aaf354-4982-4a8f-9d58-2e8fc489e814",
   "metadata": {},
   "outputs": [
    {
     "name": "stdout",
     "output_type": "stream",
     "text": [
      "<class 'pandas.core.frame.DataFrame'>\n",
      "RangeIndex: 10000 entries, 0 to 9999\n",
      "Data columns (total 8 columns):\n",
      " #   Column      Non-Null Count  Dtype  \n",
      "---  ------      --------------  -----  \n",
      " 0   name        10000 non-null  object \n",
      " 1   categories  10000 non-null  object \n",
      " 2   city        10000 non-null  object \n",
      " 3   state       10000 non-null  object \n",
      " 4   address     10000 non-null  object \n",
      " 5   postalCode  10000 non-null  object \n",
      " 6   latitude    10000 non-null  float64\n",
      " 7   longitude   10000 non-null  float64\n",
      "dtypes: float64(2), object(6)\n",
      "memory usage: 625.1+ KB\n"
     ]
    }
   ],
   "source": [
    "# summary of the DataFrame, non-null values, data types of columns, and memory usage\n",
    "df.info()"
   ]
  },
  {
   "cell_type": "code",
   "execution_count": 5,
   "id": "ded7795a-69ab-41ad-bc46-345aceb0f796",
   "metadata": {},
   "outputs": [
    {
     "data": {
      "text/html": [
       "<div>\n",
       "<style scoped>\n",
       "    .dataframe tbody tr th:only-of-type {\n",
       "        vertical-align: middle;\n",
       "    }\n",
       "\n",
       "    .dataframe tbody tr th {\n",
       "        vertical-align: top;\n",
       "    }\n",
       "\n",
       "    .dataframe thead th {\n",
       "        text-align: right;\n",
       "    }\n",
       "</style>\n",
       "<table border=\"1\" class=\"dataframe\">\n",
       "  <thead>\n",
       "    <tr style=\"text-align: right;\">\n",
       "      <th></th>\n",
       "      <th>name</th>\n",
       "      <th>categories</th>\n",
       "      <th>city</th>\n",
       "      <th>state</th>\n",
       "      <th>address</th>\n",
       "      <th>postalCode</th>\n",
       "      <th>latitude</th>\n",
       "      <th>longitude</th>\n",
       "    </tr>\n",
       "  </thead>\n",
       "  <tbody>\n",
       "    <tr>\n",
       "      <th>0</th>\n",
       "      <td>Carl's Jr.</td>\n",
       "      <td>Fast Food Restaurants,Hamburgers and Hot Dogs,...</td>\n",
       "      <td>Greeley</td>\n",
       "      <td>CO</td>\n",
       "      <td>2555 11th Avenue</td>\n",
       "      <td>80631</td>\n",
       "      <td>40.39629</td>\n",
       "      <td>-104.69699</td>\n",
       "    </tr>\n",
       "    <tr>\n",
       "      <th>1</th>\n",
       "      <td>Del Taco</td>\n",
       "      <td>Restaurant,Mexican Restaurants,Fast Food Resta...</td>\n",
       "      <td>Grand Junction</td>\n",
       "      <td>CO</td>\n",
       "      <td>2513 Highway 6 And 50</td>\n",
       "      <td>81505</td>\n",
       "      <td>39.08135</td>\n",
       "      <td>-108.58689</td>\n",
       "    </tr>\n",
       "    <tr>\n",
       "      <th>2</th>\n",
       "      <td>Which Wich</td>\n",
       "      <td>Sandwich Shops,Fast Food Restaurants,Restauran...</td>\n",
       "      <td>Grand Junction</td>\n",
       "      <td>CO</td>\n",
       "      <td>1125 Patterson Road</td>\n",
       "      <td>81506</td>\n",
       "      <td>39.09148</td>\n",
       "      <td>-108.55411</td>\n",
       "    </tr>\n",
       "    <tr>\n",
       "      <th>3</th>\n",
       "      <td>Chipotle Mexican Grill</td>\n",
       "      <td>Fast Food Restaurants,Mexican Restaurants,Rest...</td>\n",
       "      <td>Aurora</td>\n",
       "      <td>CO</td>\n",
       "      <td>3455 N Salida Court</td>\n",
       "      <td>80011</td>\n",
       "      <td>39.76369</td>\n",
       "      <td>-104.77671</td>\n",
       "    </tr>\n",
       "    <tr>\n",
       "      <th>4</th>\n",
       "      <td>Taco Bell</td>\n",
       "      <td>Fast Food Restaurants,Mexican Restaurants,Rest...</td>\n",
       "      <td>Denver</td>\n",
       "      <td>CO</td>\n",
       "      <td>5225 E Colfax Avenue</td>\n",
       "      <td>80220</td>\n",
       "      <td>39.74044</td>\n",
       "      <td>-104.92636</td>\n",
       "    </tr>\n",
       "  </tbody>\n",
       "</table>\n",
       "</div>"
      ],
      "text/plain": [
       "                     name                                         categories  \\\n",
       "0              Carl's Jr.  Fast Food Restaurants,Hamburgers and Hot Dogs,...   \n",
       "1                Del Taco  Restaurant,Mexican Restaurants,Fast Food Resta...   \n",
       "2              Which Wich  Sandwich Shops,Fast Food Restaurants,Restauran...   \n",
       "3  Chipotle Mexican Grill  Fast Food Restaurants,Mexican Restaurants,Rest...   \n",
       "4               Taco Bell  Fast Food Restaurants,Mexican Restaurants,Rest...   \n",
       "\n",
       "             city state                address postalCode  latitude  longitude  \n",
       "0         Greeley    CO       2555 11th Avenue      80631  40.39629 -104.69699  \n",
       "1  Grand Junction    CO  2513 Highway 6 And 50      81505  39.08135 -108.58689  \n",
       "2  Grand Junction    CO    1125 Patterson Road      81506  39.09148 -108.55411  \n",
       "3          Aurora    CO    3455 N Salida Court      80011  39.76369 -104.77671  \n",
       "4          Denver    CO   5225 E Colfax Avenue      80220  39.74044 -104.92636  "
      ]
     },
     "execution_count": 5,
     "metadata": {},
     "output_type": "execute_result"
    }
   ],
   "source": [
    "# the first few rows\n",
    "df.head()"
   ]
  },
  {
   "cell_type": "code",
   "execution_count": 6,
   "id": "acfbb950-7155-48cb-97ec-6e7101050286",
   "metadata": {},
   "outputs": [
    {
     "data": {
      "text/html": [
       "<div>\n",
       "<style scoped>\n",
       "    .dataframe tbody tr th:only-of-type {\n",
       "        vertical-align: middle;\n",
       "    }\n",
       "\n",
       "    .dataframe tbody tr th {\n",
       "        vertical-align: top;\n",
       "    }\n",
       "\n",
       "    .dataframe thead th {\n",
       "        text-align: right;\n",
       "    }\n",
       "</style>\n",
       "<table border=\"1\" class=\"dataframe\">\n",
       "  <thead>\n",
       "    <tr style=\"text-align: right;\">\n",
       "      <th></th>\n",
       "      <th>name</th>\n",
       "      <th>categories</th>\n",
       "      <th>city</th>\n",
       "      <th>state</th>\n",
       "      <th>address</th>\n",
       "      <th>postalCode</th>\n",
       "      <th>latitude</th>\n",
       "      <th>longitude</th>\n",
       "    </tr>\n",
       "  </thead>\n",
       "  <tbody>\n",
       "    <tr>\n",
       "      <th>9995</th>\n",
       "      <td>Church's Chicken Of Birmingham</td>\n",
       "      <td>American Restaurants,Caterers,Soul Food Restau...</td>\n",
       "      <td>Bessemer</td>\n",
       "      <td>AL</td>\n",
       "      <td>1803 Carolina Ave</td>\n",
       "      <td>35020</td>\n",
       "      <td>33.399574</td>\n",
       "      <td>-86.951050</td>\n",
       "    </tr>\n",
       "    <tr>\n",
       "      <th>9996</th>\n",
       "      <td>Luxury Box</td>\n",
       "      <td>Mexican Restaurants,Caterers,Delicatessens,Iri...</td>\n",
       "      <td>Raleigh</td>\n",
       "      <td>NC</td>\n",
       "      <td>8511 Cantilever Way Ste 105</td>\n",
       "      <td>27613-6996</td>\n",
       "      <td>35.884500</td>\n",
       "      <td>-78.737541</td>\n",
       "    </tr>\n",
       "    <tr>\n",
       "      <th>9997</th>\n",
       "      <td>McDonald's</td>\n",
       "      <td>Carry-out food,Hot dog restaurants,Fast Food R...</td>\n",
       "      <td>Plover</td>\n",
       "      <td>WI</td>\n",
       "      <td>2601 Plover Rd</td>\n",
       "      <td>54467</td>\n",
       "      <td>44.453180</td>\n",
       "      <td>-89.543170</td>\n",
       "    </tr>\n",
       "    <tr>\n",
       "      <th>9998</th>\n",
       "      <td>Pizza Hut</td>\n",
       "      <td>Carry-out food,Caterers,Restaurant delivery se...</td>\n",
       "      <td>Hendersonville</td>\n",
       "      <td>TN</td>\n",
       "      <td>170 E Main St</td>\n",
       "      <td>37075</td>\n",
       "      <td>36.308262</td>\n",
       "      <td>-86.607339</td>\n",
       "    </tr>\n",
       "    <tr>\n",
       "      <th>9999</th>\n",
       "      <td>Burger King</td>\n",
       "      <td>Fast Food Restaurant,Restaurants</td>\n",
       "      <td>Durham</td>\n",
       "      <td>NC</td>\n",
       "      <td>3400 Westgate Drive</td>\n",
       "      <td>27707-2696</td>\n",
       "      <td>35.965869</td>\n",
       "      <td>-78.963366</td>\n",
       "    </tr>\n",
       "  </tbody>\n",
       "</table>\n",
       "</div>"
      ],
      "text/plain": [
       "                                name  \\\n",
       "9995  Church's Chicken Of Birmingham   \n",
       "9996                      Luxury Box   \n",
       "9997                      McDonald's   \n",
       "9998                       Pizza Hut   \n",
       "9999                     Burger King   \n",
       "\n",
       "                                             categories            city state  \\\n",
       "9995  American Restaurants,Caterers,Soul Food Restau...        Bessemer    AL   \n",
       "9996  Mexican Restaurants,Caterers,Delicatessens,Iri...         Raleigh    NC   \n",
       "9997  Carry-out food,Hot dog restaurants,Fast Food R...          Plover    WI   \n",
       "9998  Carry-out food,Caterers,Restaurant delivery se...  Hendersonville    TN   \n",
       "9999                   Fast Food Restaurant,Restaurants          Durham    NC   \n",
       "\n",
       "                          address  postalCode   latitude  longitude  \n",
       "9995            1803 Carolina Ave       35020  33.399574 -86.951050  \n",
       "9996  8511 Cantilever Way Ste 105  27613-6996  35.884500 -78.737541  \n",
       "9997               2601 Plover Rd       54467  44.453180 -89.543170  \n",
       "9998                170 E Main St       37075  36.308262 -86.607339  \n",
       "9999          3400 Westgate Drive  27707-2696  35.965869 -78.963366  "
      ]
     },
     "execution_count": 6,
     "metadata": {},
     "output_type": "execute_result"
    }
   ],
   "source": [
    "# the last few rows\n",
    "df.tail()"
   ]
  },
  {
   "cell_type": "code",
   "execution_count": 7,
   "id": "e1356aa4-2b6c-415c-a52c-5729f1f55fa9",
   "metadata": {},
   "outputs": [
    {
     "data": {
      "text/html": [
       "<div>\n",
       "<style scoped>\n",
       "    .dataframe tbody tr th:only-of-type {\n",
       "        vertical-align: middle;\n",
       "    }\n",
       "\n",
       "    .dataframe tbody tr th {\n",
       "        vertical-align: top;\n",
       "    }\n",
       "\n",
       "    .dataframe thead th {\n",
       "        text-align: right;\n",
       "    }\n",
       "</style>\n",
       "<table border=\"1\" class=\"dataframe\">\n",
       "  <thead>\n",
       "    <tr style=\"text-align: right;\">\n",
       "      <th></th>\n",
       "      <th>name</th>\n",
       "      <th>categories</th>\n",
       "      <th>city</th>\n",
       "      <th>state</th>\n",
       "      <th>address</th>\n",
       "      <th>postalCode</th>\n",
       "      <th>latitude</th>\n",
       "      <th>longitude</th>\n",
       "    </tr>\n",
       "  </thead>\n",
       "  <tbody>\n",
       "    <tr>\n",
       "      <th>count</th>\n",
       "      <td>10000</td>\n",
       "      <td>10000</td>\n",
       "      <td>10000</td>\n",
       "      <td>10000</td>\n",
       "      <td>10000</td>\n",
       "      <td>10000</td>\n",
       "      <td>10000.000000</td>\n",
       "      <td>10000.000000</td>\n",
       "    </tr>\n",
       "    <tr>\n",
       "      <th>unique</th>\n",
       "      <td>1545</td>\n",
       "      <td>5670</td>\n",
       "      <td>2810</td>\n",
       "      <td>47</td>\n",
       "      <td>9954</td>\n",
       "      <td>5310</td>\n",
       "      <td>NaN</td>\n",
       "      <td>NaN</td>\n",
       "    </tr>\n",
       "    <tr>\n",
       "      <th>top</th>\n",
       "      <td>McDonald's</td>\n",
       "      <td>Fast Food Restaurants,Hamburgers and Hot Dogs,...</td>\n",
       "      <td>Columbus</td>\n",
       "      <td>OH</td>\n",
       "      <td>2005 Kalia Rd</td>\n",
       "      <td>37040</td>\n",
       "      <td>NaN</td>\n",
       "      <td>NaN</td>\n",
       "    </tr>\n",
       "    <tr>\n",
       "      <th>freq</th>\n",
       "      <td>765</td>\n",
       "      <td>182</td>\n",
       "      <td>105</td>\n",
       "      <td>922</td>\n",
       "      <td>4</td>\n",
       "      <td>17</td>\n",
       "      <td>NaN</td>\n",
       "      <td>NaN</td>\n",
       "    </tr>\n",
       "    <tr>\n",
       "      <th>mean</th>\n",
       "      <td>NaN</td>\n",
       "      <td>NaN</td>\n",
       "      <td>NaN</td>\n",
       "      <td>NaN</td>\n",
       "      <td>NaN</td>\n",
       "      <td>NaN</td>\n",
       "      <td>37.298215</td>\n",
       "      <td>-93.284547</td>\n",
       "    </tr>\n",
       "    <tr>\n",
       "      <th>std</th>\n",
       "      <td>NaN</td>\n",
       "      <td>NaN</td>\n",
       "      <td>NaN</td>\n",
       "      <td>NaN</td>\n",
       "      <td>NaN</td>\n",
       "      <td>NaN</td>\n",
       "      <td>5.566995</td>\n",
       "      <td>16.421424</td>\n",
       "    </tr>\n",
       "    <tr>\n",
       "      <th>min</th>\n",
       "      <td>NaN</td>\n",
       "      <td>NaN</td>\n",
       "      <td>NaN</td>\n",
       "      <td>NaN</td>\n",
       "      <td>NaN</td>\n",
       "      <td>NaN</td>\n",
       "      <td>19.639560</td>\n",
       "      <td>-159.464310</td>\n",
       "    </tr>\n",
       "    <tr>\n",
       "      <th>25%</th>\n",
       "      <td>NaN</td>\n",
       "      <td>NaN</td>\n",
       "      <td>NaN</td>\n",
       "      <td>NaN</td>\n",
       "      <td>NaN</td>\n",
       "      <td>NaN</td>\n",
       "      <td>33.850652</td>\n",
       "      <td>-98.342758</td>\n",
       "    </tr>\n",
       "    <tr>\n",
       "      <th>50%</th>\n",
       "      <td>NaN</td>\n",
       "      <td>NaN</td>\n",
       "      <td>NaN</td>\n",
       "      <td>NaN</td>\n",
       "      <td>NaN</td>\n",
       "      <td>NaN</td>\n",
       "      <td>37.490189</td>\n",
       "      <td>-86.677452</td>\n",
       "    </tr>\n",
       "    <tr>\n",
       "      <th>75%</th>\n",
       "      <td>NaN</td>\n",
       "      <td>NaN</td>\n",
       "      <td>NaN</td>\n",
       "      <td>NaN</td>\n",
       "      <td>NaN</td>\n",
       "      <td>NaN</td>\n",
       "      <td>40.808905</td>\n",
       "      <td>-81.803061</td>\n",
       "    </tr>\n",
       "    <tr>\n",
       "      <th>max</th>\n",
       "      <td>NaN</td>\n",
       "      <td>NaN</td>\n",
       "      <td>NaN</td>\n",
       "      <td>NaN</td>\n",
       "      <td>NaN</td>\n",
       "      <td>NaN</td>\n",
       "      <td>64.856880</td>\n",
       "      <td>-71.082180</td>\n",
       "    </tr>\n",
       "  </tbody>\n",
       "</table>\n",
       "</div>"
      ],
      "text/plain": [
       "              name                                         categories  \\\n",
       "count        10000                                              10000   \n",
       "unique        1545                                               5670   \n",
       "top     McDonald's  Fast Food Restaurants,Hamburgers and Hot Dogs,...   \n",
       "freq           765                                                182   \n",
       "mean           NaN                                                NaN   \n",
       "std            NaN                                                NaN   \n",
       "min            NaN                                                NaN   \n",
       "25%            NaN                                                NaN   \n",
       "50%            NaN                                                NaN   \n",
       "75%            NaN                                                NaN   \n",
       "max            NaN                                                NaN   \n",
       "\n",
       "            city  state        address postalCode      latitude     longitude  \n",
       "count      10000  10000          10000      10000  10000.000000  10000.000000  \n",
       "unique      2810     47           9954       5310           NaN           NaN  \n",
       "top     Columbus     OH  2005 Kalia Rd      37040           NaN           NaN  \n",
       "freq         105    922              4         17           NaN           NaN  \n",
       "mean         NaN    NaN            NaN        NaN     37.298215    -93.284547  \n",
       "std          NaN    NaN            NaN        NaN      5.566995     16.421424  \n",
       "min          NaN    NaN            NaN        NaN     19.639560   -159.464310  \n",
       "25%          NaN    NaN            NaN        NaN     33.850652    -98.342758  \n",
       "50%          NaN    NaN            NaN        NaN     37.490189    -86.677452  \n",
       "75%          NaN    NaN            NaN        NaN     40.808905    -81.803061  \n",
       "max          NaN    NaN            NaN        NaN     64.856880    -71.082180  "
      ]
     },
     "execution_count": 7,
     "metadata": {},
     "output_type": "execute_result"
    }
   ],
   "source": [
    "# descriptive statistics of numerical columns (count, mean, std, min, max, etc.)\n",
    "df.describe(include='all')"
   ]
  },
  {
   "cell_type": "markdown",
   "id": "33da8d81-912c-4556-9873-fd1645e980bf",
   "metadata": {},
   "source": [
    "## Cleaning the data"
   ]
  },
  {
   "cell_type": "code",
   "execution_count": 8,
   "id": "058269c4-8529-4865-ad5b-dc99405982fe",
   "metadata": {},
   "outputs": [],
   "source": [
    "# Remove duplicates\n",
    "df.drop_duplicates(inplace=True)"
   ]
  },
  {
   "cell_type": "code",
   "execution_count": 9,
   "id": "771cb2e0-b0d8-4d5e-a146-e3debb5e4f3a",
   "metadata": {},
   "outputs": [
    {
     "data": {
      "text/plain": [
       "name          0\n",
       "categories    0\n",
       "city          0\n",
       "state         0\n",
       "address       0\n",
       "postalCode    0\n",
       "latitude      0\n",
       "longitude     0\n",
       "dtype: int64"
      ]
     },
     "execution_count": 9,
     "metadata": {},
     "output_type": "execute_result"
    }
   ],
   "source": [
    "# Handle missing values\n",
    "# Check for missing values in each column\n",
    "df.isnull().sum()"
   ]
  },
  {
   "cell_type": "code",
   "execution_count": 10,
   "id": "30b6af7b-4e65-4824-834d-f752547ddb38",
   "metadata": {},
   "outputs": [],
   "source": [
    "# If latitude/longitude is missing, we may choose to drop those rows for geospatial analysis\n",
    "df.dropna(subset=['latitude', 'longitude'], inplace=True)"
   ]
  },
  {
   "cell_type": "code",
   "execution_count": 11,
   "id": "80830303-0cf2-49a8-8ca9-7c6944b8da42",
   "metadata": {},
   "outputs": [],
   "source": [
    "# Standardize text data (converting to lowercase, stripping extra spaces)\n",
    "df['name'] = df['name'].str.lower().str.strip()\n",
    "df['categories'] = df['categories'].str.lower().str.strip()\n",
    "df['city'] = df['city'].str.lower().str.strip()\n",
    "df['address'] = df['address'].str.lower().str.strip()"
   ]
  },
  {
   "cell_type": "code",
   "execution_count": 12,
   "id": "30b0fd26-e1db-4af0-895d-c2a5c6e6e10d",
   "metadata": {},
   "outputs": [],
   "source": [
    "# Handle outliers in latitude and longitude\n",
    "# Normally, US latitudes range from about 24 to 49, and longitudes range from -125 to -66.\n",
    "df = df[(df['latitude'] >= 24) & (df['latitude'] <= 49)]\n",
    "df = df[(df['longitude'] >= -125) & (df['longitude'] <= -66)]"
   ]
  }
 ],
 "metadata": {
  "kernelspec": {
   "display_name": "Python 3 (ipykernel)",
   "language": "python",
   "name": "python3"
  },
  "language_info": {
   "codemirror_mode": {
    "name": "ipython",
    "version": 3
   },
   "file_extension": ".py",
   "mimetype": "text/x-python",
   "name": "python",
   "nbconvert_exporter": "python",
   "pygments_lexer": "ipython3",
   "version": "3.12.4"
  }
 },
 "nbformat": 4,
 "nbformat_minor": 5
}
