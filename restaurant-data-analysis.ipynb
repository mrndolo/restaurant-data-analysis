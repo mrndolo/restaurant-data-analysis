{
 "cells": [
  {
   "cell_type": "markdown",
   "id": "8945a9e9-a651-41c8-9d67-9f415351f240",
   "metadata": {},
   "source": [
    "# US Restaurant data analysis"
   ]
  },
  {
   "cell_type": "markdown",
   "id": "b10ea449-5cf9-4a6c-806b-d1f93e251bd0",
   "metadata": {},
   "source": [
    "## Import/Load the Data"
   ]
  },
  {
   "cell_type": "code",
   "execution_count": 1,
   "id": "f439c094-fcfa-41b6-95f8-b4784af12d59",
   "metadata": {},
   "outputs": [],
   "source": [
    "import pandas as pd\n",
    "\n",
    "df = pd.read_csv('restaurant_data_analysis.csv')"
   ]
  }
 ],
 "metadata": {
  "kernelspec": {
   "display_name": "Python 3 (ipykernel)",
   "language": "python",
   "name": "python3"
  },
  "language_info": {
   "codemirror_mode": {
    "name": "ipython",
    "version": 3
   },
   "file_extension": ".py",
   "mimetype": "text/x-python",
   "name": "python",
   "nbconvert_exporter": "python",
   "pygments_lexer": "ipython3",
   "version": "3.12.4"
  }
 },
 "nbformat": 4,
 "nbformat_minor": 5
}
